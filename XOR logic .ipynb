{
  "nbformat": 4,
  "nbformat_minor": 0,
  "metadata": {
    "colab": {
      "name": "Untitled2.ipynb",
      "version": "0.3.2",
      "provenance": [],
      "include_colab_link": true
    },
    "kernelspec": {
      "name": "python3",
      "display_name": "Python 3"
    }
  },
  "cells": [
    {
      "cell_type": "markdown",
      "metadata": {
        "id": "view-in-github",
        "colab_type": "text"
      },
      "source": [
        "<a href=\"https://colab.research.google.com/github/yegane-AI/Machine-Learning/blob/master/XOR%20logic%20.ipynb\" target=\"_parent\"><img src=\"https://colab.research.google.com/assets/colab-badge.svg\" alt=\"Open In Colab\"/></a>"
      ]
    },
    {
      "cell_type": "code",
      "metadata": {
        "id": "fkcG-Pt4BBfS",
        "colab_type": "code",
        "colab": {
          "base_uri": "https://localhost:8080/",
          "height": 1000
        },
        "outputId": "0264a27e-fa8e-4e59-ecaa-f6ad1e947d37"
      },
      "source": [
        "import tensorflow as tf\n",
        "import numpy as np\n",
        "\n",
        "atributes = [\n",
        "    [0,0]\n",
        "    , [0,1]\n",
        "    , [1,0]\n",
        "    , [1,1]\n",
        "]\n",
        "labels = [\n",
        "    0\n",
        "    ,1\n",
        "    ,1\n",
        "    ,0\n",
        "]\n",
        "data = np.array(atributes, 'float32')\n",
        "target = np.array(labels, 'float32')\n",
        "feature_columns = [tf.contrib.layers.real_valued_column(\"\")]\n",
        "learningRate = 0.1\n",
        "epoch = 10000\n",
        "classifier = tf.contrib.learn.DNNClassifier(\n",
        "    feature_columns = feature_columns\n",
        "    , hidden_units = [3]\n",
        "    , activation_fn = tf.nn.sigmoid\n",
        "    , optimizer = tf.train.GradientDescentOptimizer(learningRate)\n",
        ")\n",
        "classifier.fit(data, target, steps = epoch)\n",
        "def test_set():\n",
        "    return np.array(atributes, np.float32)\n",
        "\n",
        "predictions = classifier.predict_classes(input_fn = test_set)\n",
        "\n",
        "index = 0\n",
        "for i in predictions:\n",
        "    print(data[i], \" -> actual: \", target[index], ' predict: ', i)\n",
        "    index = index + 1\n",
        "\n"
      ],
      "execution_count": 1,
      "outputs": [
        {
          "output_type": "stream",
          "text": [
            "WARNING: Logging before flag parsing goes to stderr.\n",
            "W0725 12:04:07.739794 139764896577408 lazy_loader.py:50] \n",
            "The TensorFlow contrib module will not be included in TensorFlow 2.0.\n",
            "For more information, please see:\n",
            "  * https://github.com/tensorflow/community/blob/master/rfcs/20180907-contrib-sunset.md\n",
            "  * https://github.com/tensorflow/addons\n",
            "  * https://github.com/tensorflow/io (for I/O related ops)\n",
            "If you depend on functionality not listed there, please file an issue.\n",
            "\n",
            "W0725 12:04:07.742819 139764896577408 deprecation.py:323] From /usr/local/lib/python3.6/dist-packages/tensorflow/contrib/learn/python/learn/estimators/dnn.py:378: multi_class_head (from tensorflow.contrib.learn.python.learn.estimators.head) is deprecated and will be removed in a future version.\n",
            "Instructions for updating:\n",
            "Please switch to tf.contrib.estimator.*_head.\n",
            "W0725 12:04:07.750611 139764896577408 deprecation.py:323] From /usr/local/lib/python3.6/dist-packages/tensorflow/contrib/learn/python/learn/estimators/estimator.py:1179: BaseEstimator.__init__ (from tensorflow.contrib.learn.python.learn.estimators.estimator) is deprecated and will be removed in a future version.\n",
            "Instructions for updating:\n",
            "Please replace uses of any Estimator from tf.contrib.learn with an Estimator from tf.estimator.*\n",
            "W0725 12:04:07.754897 139764896577408 deprecation.py:323] From /usr/local/lib/python3.6/dist-packages/tensorflow/contrib/learn/python/learn/estimators/estimator.py:427: RunConfig.__init__ (from tensorflow.contrib.learn.python.learn.estimators.run_config) is deprecated and will be removed in a future version.\n",
            "Instructions for updating:\n",
            "When switching to tf.estimator.Estimator, use tf.estimator.RunConfig instead.\n",
            "W0725 12:04:07.758046 139764896577408 estimator.py:453] Using temporary folder as model directory: /tmp/tmpbuaz1yjm\n",
            "W0725 12:04:07.760573 139764896577408 deprecation.py:506] From <ipython-input-1-e9afe232b911>:27: calling BaseEstimator.fit (from tensorflow.contrib.learn.python.learn.estimators.estimator) with x is deprecated and will be removed after 2016-12-01.\n",
            "Instructions for updating:\n",
            "Estimator is decoupled from Scikit Learn interface by moving into\n",
            "separate class SKCompat. Arguments x, y and batch_size are only\n",
            "available in the SKCompat class, Estimator will only accept input_fn.\n",
            "Example conversion:\n",
            "  est = Estimator(...) -> est = SKCompat(Estimator(...))\n",
            "W0725 12:04:07.761821 139764896577408 deprecation.py:506] From <ipython-input-1-e9afe232b911>:27: calling BaseEstimator.fit (from tensorflow.contrib.learn.python.learn.estimators.estimator) with y is deprecated and will be removed after 2016-12-01.\n",
            "Instructions for updating:\n",
            "Estimator is decoupled from Scikit Learn interface by moving into\n",
            "separate class SKCompat. Arguments x, y and batch_size are only\n",
            "available in the SKCompat class, Estimator will only accept input_fn.\n",
            "Example conversion:\n",
            "  est = Estimator(...) -> est = SKCompat(Estimator(...))\n",
            "W0725 12:04:07.763031 139764896577408 deprecation.py:323] From /usr/local/lib/python3.6/dist-packages/tensorflow/contrib/learn/python/learn/estimators/estimator.py:508: SKCompat.__init__ (from tensorflow.contrib.learn.python.learn.estimators.estimator) is deprecated and will be removed in a future version.\n",
            "Instructions for updating:\n",
            "Please switch to the Estimator interface.\n",
            "W0725 12:04:07.764203 139764896577408 deprecation.py:323] From /usr/local/lib/python3.6/dist-packages/tensorflow/contrib/learn/python/learn/estimators/estimator.py:143: setup_train_data_feeder (from tensorflow.contrib.learn.python.learn.learn_io.data_feeder) is deprecated and will be removed in a future version.\n",
            "Instructions for updating:\n",
            "Please use tensorflow/transform or tf.data.\n",
            "W0725 12:04:07.765205 139764896577408 deprecation.py:323] From /usr/local/lib/python3.6/dist-packages/tensorflow/contrib/learn/python/learn/learn_io/data_feeder.py:96: extract_dask_data (from tensorflow.contrib.learn.python.learn.learn_io.dask_io) is deprecated and will be removed in a future version.\n",
            "Instructions for updating:\n",
            "Please feed input to tf.data to support dask.\n",
            "W0725 12:04:07.766200 139764896577408 deprecation.py:323] From /usr/local/lib/python3.6/dist-packages/tensorflow/contrib/learn/python/learn/learn_io/data_feeder.py:98: extract_dask_labels (from tensorflow.contrib.learn.python.learn.learn_io.dask_io) is deprecated and will be removed in a future version.\n",
            "Instructions for updating:\n",
            "Please feed input to tf.data to support dask.\n",
            "W0725 12:04:07.767226 139764896577408 deprecation.py:323] From /usr/local/lib/python3.6/dist-packages/tensorflow/contrib/learn/python/learn/learn_io/data_feeder.py:100: extract_pandas_data (from tensorflow.contrib.learn.python.learn.learn_io.pandas_io) is deprecated and will be removed in a future version.\n",
            "Instructions for updating:\n",
            "Please access pandas data directly.\n",
            "W0725 12:04:07.768161 139764896577408 deprecation.py:323] From /usr/local/lib/python3.6/dist-packages/tensorflow/contrib/learn/python/learn/learn_io/data_feeder.py:102: extract_pandas_labels (from tensorflow.contrib.learn.python.learn.learn_io.pandas_io) is deprecated and will be removed in a future version.\n",
            "Instructions for updating:\n",
            "Please access pandas data directly.\n",
            "W0725 12:04:07.769134 139764896577408 deprecation.py:323] From /usr/local/lib/python3.6/dist-packages/tensorflow/contrib/learn/python/learn/learn_io/data_feeder.py:159: DataFeeder.__init__ (from tensorflow.contrib.learn.python.learn.learn_io.data_feeder) is deprecated and will be removed in a future version.\n",
            "Instructions for updating:\n",
            "Please use tensorflow/transform or tf.data.\n",
            "W0725 12:04:07.770101 139764896577408 deprecation.py:323] From /usr/local/lib/python3.6/dist-packages/tensorflow/contrib/learn/python/learn/learn_io/data_feeder.py:340: check_array (from tensorflow.contrib.learn.python.learn.learn_io.data_feeder) is deprecated and will be removed in a future version.\n",
            "Instructions for updating:\n",
            "Please convert numpy dtypes explicitly.\n",
            "W0725 12:04:07.807907 139764896577408 deprecation.py:323] From /usr/local/lib/python3.6/dist-packages/tensorflow/python/training/training_util.py:236: Variable.initialized_value (from tensorflow.python.ops.variables) is deprecated and will be removed in a future version.\n",
            "Instructions for updating:\n",
            "Use Variable.read_value. Variables in 2.X are initialized automatically both in eager and graph (inside tf.defun) contexts.\n",
            "W0725 12:04:08.248229 139764896577408 deprecation.py:323] From /usr/local/lib/python3.6/dist-packages/tensorflow/python/ops/nn_impl.py:180: add_dispatch_support.<locals>.wrapper (from tensorflow.python.ops.array_ops) is deprecated and will be removed in a future version.\n",
            "Instructions for updating:\n",
            "Use tf.where in 2.0, which has the same broadcast rule as np.where\n",
            "W0725 12:04:08.584731 139764896577408 head.py:2027] Casting <dtype: 'float32'> labels to bool.\n",
            "W0725 12:04:08.676868 139764896577408 deprecation.py:323] From /usr/local/lib/python3.6/dist-packages/tensorflow/python/ops/metrics_impl.py:809: div (from tensorflow.python.ops.math_ops) is deprecated and will be removed in a future version.\n",
            "Instructions for updating:\n",
            "Deprecated in favor of operator or tf.math.divide.\n",
            "W0725 12:04:08.723319 139764896577408 head.py:2027] Casting <dtype: 'float32'> labels to bool.\n",
            "W0725 12:04:08.807803 139764896577408 metrics_impl.py:804] Trapezoidal rule is known to produce incorrect PR-AUCs; please switch to \"careful_interpolation\" instead.\n",
            "W0725 12:04:08.836092 139764896577408 metrics_impl.py:804] Trapezoidal rule is known to produce incorrect PR-AUCs; please switch to \"careful_interpolation\" instead.\n",
            "W0725 12:04:09.047495 139764896577408 deprecation.py:323] From /usr/local/lib/python3.6/dist-packages/tensorflow/contrib/learn/python/learn/estimators/head.py:678: ModelFnOps.__new__ (from tensorflow.contrib.learn.python.learn.estimators.model_fn) is deprecated and will be removed in a future version.\n",
            "Instructions for updating:\n",
            "When switching to tf.estimator.Estimator, use tf.estimator.EstimatorSpec. You can use the `estimator_spec` method to create an equivalent one.\n",
            "W0725 12:04:17.044067 139764896577408 basic_session_run_hooks.py:724] It seems that global step (tf.train.get_global_step) has not been increased. Current value (could be stable): 6780 vs previous value: 6780. You could increase the global step by passing tf.train.get_global_step() to Optimizer.apply_gradients or Optimizer.minimize.\n",
            "W0725 12:04:20.614989 139764896577408 deprecation.py:323] From /usr/local/lib/python3.6/dist-packages/tensorflow/python/training/saver.py:1276: checkpoint_exists (from tensorflow.python.training.checkpoint_management) is deprecated and will be removed in a future version.\n",
            "Instructions for updating:\n",
            "Use standard file APIs to check for files with this prefix.\n"
          ],
          "name": "stderr"
        },
        {
          "output_type": "stream",
          "text": [
            "[0. 0.]  -> actual:  0.0  predict:  0\n",
            "[0. 1.]  -> actual:  1.0  predict:  1\n",
            "[0. 1.]  -> actual:  1.0  predict:  1\n",
            "[0. 0.]  -> actual:  0.0  predict:  0\n"
          ],
          "name": "stdout"
        }
      ]
    }
  ]
}