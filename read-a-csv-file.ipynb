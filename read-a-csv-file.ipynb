{
 "cells": [
  {
   "cell_type": "code",
   "execution_count": 66,
   "metadata": {},
   "outputs": [
    {
     "name": "stdout",
     "output_type": "stream",
     "text": [
      "   LSD_ppm\n",
      "0     1.17\n",
      "1     2.97\n",
      "2     3.26\n",
      "3     4.69\n",
      "4     5.83\n",
      "5     6.00\n",
      "6     6.41\n",
      "<class 'pandas.core.frame.DataFrame'>\n",
      "   Time_Delay_in_Minutes  LSD_ppm  Avg_Math_Test_Score  High Scores\n",
      "0                      5     1.17                78.93   32015.9449\n",
      "1                     15     2.97                58.20   25027.2400\n",
      "2                     30     3.26                67.47   28046.2009\n",
      "3                     60     4.69                37.47   18898.0009\n",
      "4                    120     5.83                45.65   21213.9225\n",
      "5                    240     6.00                32.92   17667.7264\n",
      "6                    480     6.41                29.97   16892.2009\n"
     ]
    }
   ],
   "source": [
    "import pandas as pd\n",
    "data = pd.read_csv('lsd_math_score_data.csv')\n",
    "#print(data)\n",
    "\n",
    "for x in range(0,len(data)):\n",
    "    data['A new column'] = x\n",
    "data['High Scores'] = 100\n",
    "data['High Scores'] = data['Avg_Math_Test_Score'] + data['High Scores']\n",
    "data['High Scores'] = (data['High Scores']) * (data['High Scores'])\n",
    "\n",
    "X = data[['LSD_ppm']]\n",
    "print(X)\n",
    "print(type(X))\n",
    "\n",
    "del data['A new column']\n",
    "print(data)"
   ]
  },
  {
   "cell_type": "code",
   "execution_count": null,
   "metadata": {},
   "outputs": [],
   "source": []
  }
 ],
 "metadata": {
  "kernelspec": {
   "display_name": "Python 3",
   "language": "python",
   "name": "python3"
  },
  "language_info": {
   "codemirror_mode": {
    "name": "ipython",
    "version": 3
   },
   "file_extension": ".py",
   "mimetype": "text/x-python",
   "name": "python",
   "nbconvert_exporter": "python",
   "pygments_lexer": "ipython3",
   "version": "3.7.3"
  }
 },
 "nbformat": 4,
 "nbformat_minor": 2
}
